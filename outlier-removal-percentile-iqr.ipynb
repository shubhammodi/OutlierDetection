{
 "cells": [
  {
   "cell_type": "code",
   "execution_count": 1,
   "id": "5a59e610",
   "metadata": {
    "_cell_guid": "b1076dfc-b9ad-4769-8c92-a6c4dae69d19",
    "_uuid": "8f2839f25d086af736a60e9eeb907d3b93b6e0e5",
    "execution": {
     "iopub.execute_input": "2022-02-20T06:50:18.753833Z",
     "iopub.status.busy": "2022-02-20T06:50:18.752456Z",
     "iopub.status.idle": "2022-02-20T06:50:18.761145Z",
     "shell.execute_reply": "2022-02-20T06:50:18.761791Z",
     "shell.execute_reply.started": "2022-02-13T08:10:00.556455Z"
    },
    "papermill": {
     "duration": 0.06171,
     "end_time": "2022-02-20T06:50:18.762104",
     "exception": false,
     "start_time": "2022-02-20T06:50:18.700394",
     "status": "completed"
    },
    "tags": []
   },
   "outputs": [],
   "source": [
    "import numpy as np \n",
    "import pandas as pd "
   ]
  },
  {
   "cell_type": "code",
   "execution_count": 2,
   "id": "8b1c7314",
   "metadata": {
    "execution": {
     "iopub.execute_input": "2022-02-20T06:50:18.851742Z",
     "iopub.status.busy": "2022-02-20T06:50:18.851017Z",
     "iopub.status.idle": "2022-02-20T06:50:18.886855Z",
     "shell.execute_reply": "2022-02-20T06:50:18.887434Z",
     "shell.execute_reply.started": "2022-02-13T08:10:02.362006Z"
    },
    "papermill": {
     "duration": 0.081873,
     "end_time": "2022-02-20T06:50:18.887629",
     "exception": false,
     "start_time": "2022-02-20T06:50:18.805756",
     "status": "completed"
    },
    "tags": []
   },
   "outputs": [],
   "source": [
    "df = pd.read_csv('../input/property-prices-bangalore/bhp.csv')"
   ]
  },
  {
   "cell_type": "code",
   "execution_count": 3,
   "id": "56955d9d",
   "metadata": {
    "execution": {
     "iopub.execute_input": "2022-02-20T06:50:18.978994Z",
     "iopub.status.busy": "2022-02-20T06:50:18.978243Z",
     "iopub.status.idle": "2022-02-20T06:50:18.999347Z",
     "shell.execute_reply": "2022-02-20T06:50:18.999912Z",
     "shell.execute_reply.started": "2022-02-13T08:10:04.321279Z"
    },
    "papermill": {
     "duration": 0.068503,
     "end_time": "2022-02-20T06:50:19.000113",
     "exception": false,
     "start_time": "2022-02-20T06:50:18.931610",
     "status": "completed"
    },
    "tags": []
   },
   "outputs": [
    {
     "data": {
      "text/html": [
       "<div>\n",
       "<style scoped>\n",
       "    .dataframe tbody tr th:only-of-type {\n",
       "        vertical-align: middle;\n",
       "    }\n",
       "\n",
       "    .dataframe tbody tr th {\n",
       "        vertical-align: top;\n",
       "    }\n",
       "\n",
       "    .dataframe thead th {\n",
       "        text-align: right;\n",
       "    }\n",
       "</style>\n",
       "<table border=\"1\" class=\"dataframe\">\n",
       "  <thead>\n",
       "    <tr style=\"text-align: right;\">\n",
       "      <th></th>\n",
       "      <th>location</th>\n",
       "      <th>size</th>\n",
       "      <th>total_sqft</th>\n",
       "      <th>bath</th>\n",
       "      <th>price</th>\n",
       "      <th>bhk</th>\n",
       "      <th>price_per_sqft</th>\n",
       "    </tr>\n",
       "  </thead>\n",
       "  <tbody>\n",
       "    <tr>\n",
       "      <th>0</th>\n",
       "      <td>Electronic City Phase II</td>\n",
       "      <td>2 BHK</td>\n",
       "      <td>1056.0</td>\n",
       "      <td>2</td>\n",
       "      <td>39.07</td>\n",
       "      <td>2</td>\n",
       "      <td>3699</td>\n",
       "    </tr>\n",
       "    <tr>\n",
       "      <th>1</th>\n",
       "      <td>Chikka Tirupathi</td>\n",
       "      <td>4 Bedroom</td>\n",
       "      <td>2600.0</td>\n",
       "      <td>5</td>\n",
       "      <td>120.00</td>\n",
       "      <td>4</td>\n",
       "      <td>4615</td>\n",
       "    </tr>\n",
       "    <tr>\n",
       "      <th>2</th>\n",
       "      <td>Uttarahalli</td>\n",
       "      <td>3 BHK</td>\n",
       "      <td>1440.0</td>\n",
       "      <td>2</td>\n",
       "      <td>62.00</td>\n",
       "      <td>3</td>\n",
       "      <td>4305</td>\n",
       "    </tr>\n",
       "    <tr>\n",
       "      <th>3</th>\n",
       "      <td>Lingadheeranahalli</td>\n",
       "      <td>3 BHK</td>\n",
       "      <td>1521.0</td>\n",
       "      <td>3</td>\n",
       "      <td>95.00</td>\n",
       "      <td>3</td>\n",
       "      <td>6245</td>\n",
       "    </tr>\n",
       "    <tr>\n",
       "      <th>4</th>\n",
       "      <td>Kothanur</td>\n",
       "      <td>2 BHK</td>\n",
       "      <td>1200.0</td>\n",
       "      <td>2</td>\n",
       "      <td>51.00</td>\n",
       "      <td>2</td>\n",
       "      <td>4250</td>\n",
       "    </tr>\n",
       "  </tbody>\n",
       "</table>\n",
       "</div>"
      ],
      "text/plain": [
       "                   location       size  total_sqft  bath   price  bhk  \\\n",
       "0  Electronic City Phase II      2 BHK      1056.0     2   39.07    2   \n",
       "1          Chikka Tirupathi  4 Bedroom      2600.0     5  120.00    4   \n",
       "2               Uttarahalli      3 BHK      1440.0     2   62.00    3   \n",
       "3        Lingadheeranahalli      3 BHK      1521.0     3   95.00    3   \n",
       "4                  Kothanur      2 BHK      1200.0     2   51.00    2   \n",
       "\n",
       "   price_per_sqft  \n",
       "0            3699  \n",
       "1            4615  \n",
       "2            4305  \n",
       "3            6245  \n",
       "4            4250  "
      ]
     },
     "execution_count": 3,
     "metadata": {},
     "output_type": "execute_result"
    }
   ],
   "source": [
    "df.head()"
   ]
  },
  {
   "cell_type": "code",
   "execution_count": 4,
   "id": "e9840ac8",
   "metadata": {
    "execution": {
     "iopub.execute_input": "2022-02-20T06:50:19.091907Z",
     "iopub.status.busy": "2022-02-20T06:50:19.091209Z",
     "iopub.status.idle": "2022-02-20T06:50:19.102682Z",
     "shell.execute_reply": "2022-02-20T06:50:19.103197Z",
     "shell.execute_reply.started": "2022-02-13T08:15:18.321666Z"
    },
    "papermill": {
     "duration": 0.058654,
     "end_time": "2022-02-20T06:50:19.103385",
     "exception": false,
     "start_time": "2022-02-20T06:50:19.044731",
     "status": "completed"
    },
    "tags": []
   },
   "outputs": [
    {
     "data": {
      "text/plain": [
       "1178.0"
      ]
     },
     "execution_count": 4,
     "metadata": {},
     "output_type": "execute_result"
    }
   ],
   "source": [
    "Q1 = np.percentile(df.price_per_sqft, .1,\n",
    "                   interpolation = 'midpoint')\n",
    " \n",
    "Q3 = np.percentile(df.price_per_sqft, .999,\n",
    "                   interpolation = 'midpoint')\n",
    "IQR = Q3 - Q1\n",
    "IQR"
   ]
  },
  {
   "cell_type": "markdown",
   "id": "be16e5e0",
   "metadata": {
    "papermill": {
     "duration": 0.043826,
     "end_time": "2022-02-20T06:50:19.192824",
     "exception": false,
     "start_time": "2022-02-20T06:50:19.148998",
     "status": "completed"
    },
    "tags": []
   },
   "source": [
    "Outlier detection and removal is a very important step of feature engineering. If outlier are not catered correctly then it may affect our classifier's accuracy drastically. So it should be done in the feature engineering pipeline. In order to do this, the basic and the very first step is to check and visualize the datasets by matplotlib or seaborn library.\n",
    "Visulization is the basic step before doing any outlier removal. It will also help us to decide the threshhold(or Random constants or parameters) for outlier removal. We can also observe the data distribution by the visualization plots. By visualizing the distribuation of the dataset we can check whether it is normally distributed or skewed. There are multiple approaches to remove the outliers. It depends on our problem statement and on the dataset that by which approach our classifier is giving us the better accuracy. Even after removal of outliers we should keep track of those records. Those records can be further used if our classifier is not giving results as per the expectations.\n",
    "\n",
    "To Remove the outliers we can use following approaches -\n",
    "\n",
    "* Percentile approach - One can use either numpy to calculate the percentile or Pandas Quantile method. The threshhold values need to be passed in both of the cases.\n",
    "eg -\n",
    "\n",
    "    lower_limit, upper_limit = df.price_per_sqft.quantile([0.001, 0.999])\n",
    "    \n",
    "    lower_limit, upper_limit\n",
    "     \n",
    "or \n",
    "\n",
    "    lower_limit = np.percentile(df.price_per_sqft, .001,\n",
    "                       interpolation = 'midpoint')\n",
    "\n",
    "    upper_limit = np.percentile(df.price_per_sqft, .999,\n",
    "                       interpolation = 'midpoint')\n",
    "    * 20 Percentile basically says that there are 20 percent values are less than a particular number within that dataset. \n",
    "* Quartile approach is another approach, used for outlier removal. Quartiles are - 25 percentile , 50 percentile and 75 percentile. In this approach we calculate q3 - q1 i.e. IQR(Interquartile Range means 50 percentile) and then calculate the upper_limit and lower limit.\n",
    "\n",
    "\n",
    "    Q1 = df['price_per_sqft'].quantile(0.25)\n",
    "    Q3 = df['price_per_sqft'].quantile(0.75)\n",
    "    IQR = Q3 - Q1\n",
    "    IQR\n",
    "    upper = Q3 +1.5*IQR # here 1.5 is a random value which we need to decide after discussion with SME and after visualizing the plots of the datasets. Visulization is the basic step before doing any outlier removal.\n",
    "\n",
    "    lower = Q1 - 1.5*IQR\n",
    "     \n",
    "\n",
    "\n",
    "\n",
    "* Z-Score approach - (Z-score for anomaly detection) - Z-score tells how many standard deviations away a given observation is from the mean\n",
    "* Standard deviation approach\n",
    "* Grubbs Test for outlier detection\n",
    "* Generalized ESD test(Generalized Extreme Studentized Deviate) for Outlier detection\n"
   ]
  },
  {
   "cell_type": "code",
   "execution_count": 5,
   "id": "07fbadea",
   "metadata": {
    "execution": {
     "iopub.execute_input": "2022-02-20T06:50:19.287013Z",
     "iopub.status.busy": "2022-02-20T06:50:19.286290Z",
     "iopub.status.idle": "2022-02-20T06:50:19.292617Z",
     "shell.execute_reply": "2022-02-20T06:50:19.293148Z",
     "shell.execute_reply.started": "2022-02-13T08:19:47.651996Z"
    },
    "papermill": {
     "duration": 0.056599,
     "end_time": "2022-02-20T06:50:19.293338",
     "exception": false,
     "start_time": "2022-02-20T06:50:19.236739",
     "status": "completed"
    },
    "tags": []
   },
   "outputs": [
    {
     "data": {
      "text/plain": [
       "3050.0"
      ]
     },
     "execution_count": 5,
     "metadata": {},
     "output_type": "execute_result"
    }
   ],
   "source": [
    "Q1 = df['price_per_sqft'].quantile(0.25)\n",
    "Q3 = df['price_per_sqft'].quantile(0.75)\n",
    "IQR = Q3 - Q1\n",
    "IQR"
   ]
  },
  {
   "cell_type": "code",
   "execution_count": 6,
   "id": "115f6a04",
   "metadata": {
    "execution": {
     "iopub.execute_input": "2022-02-20T06:50:19.389864Z",
     "iopub.status.busy": "2022-02-20T06:50:19.388851Z",
     "iopub.status.idle": "2022-02-20T06:50:19.392570Z",
     "shell.execute_reply": "2022-02-20T06:50:19.393128Z",
     "shell.execute_reply.started": "2022-02-13T08:19:51.523006Z"
    },
    "papermill": {
     "duration": 0.054416,
     "end_time": "2022-02-20T06:50:19.393303",
     "exception": false,
     "start_time": "2022-02-20T06:50:19.338887",
     "status": "completed"
    },
    "tags": []
   },
   "outputs": [
    {
     "data": {
      "text/plain": [
       "4267.0"
      ]
     },
     "execution_count": 6,
     "metadata": {},
     "output_type": "execute_result"
    }
   ],
   "source": [
    "Q1"
   ]
  },
  {
   "cell_type": "code",
   "execution_count": 7,
   "id": "ae0666de",
   "metadata": {
    "execution": {
     "iopub.execute_input": "2022-02-20T06:50:19.490699Z",
     "iopub.status.busy": "2022-02-20T06:50:19.489814Z",
     "iopub.status.idle": "2022-02-20T06:50:19.493386Z",
     "shell.execute_reply": "2022-02-20T06:50:19.493984Z",
     "shell.execute_reply.started": "2022-02-13T08:19:53.756072Z"
    },
    "papermill": {
     "duration": 0.055975,
     "end_time": "2022-02-20T06:50:19.494169",
     "exception": false,
     "start_time": "2022-02-20T06:50:19.438194",
     "status": "completed"
    },
    "tags": []
   },
   "outputs": [
    {
     "data": {
      "text/plain": [
       "7317.0"
      ]
     },
     "execution_count": 7,
     "metadata": {},
     "output_type": "execute_result"
    }
   ],
   "source": [
    "Q3"
   ]
  },
  {
   "cell_type": "code",
   "execution_count": 8,
   "id": "eadd899d",
   "metadata": {
    "execution": {
     "iopub.execute_input": "2022-02-20T06:50:19.590283Z",
     "iopub.status.busy": "2022-02-20T06:50:19.589343Z",
     "iopub.status.idle": "2022-02-20T06:50:19.592159Z",
     "shell.execute_reply": "2022-02-20T06:50:19.592709Z",
     "shell.execute_reply.started": "2022-02-13T08:19:57.241565Z"
    },
    "papermill": {
     "duration": 0.053213,
     "end_time": "2022-02-20T06:50:19.592891",
     "exception": false,
     "start_time": "2022-02-20T06:50:19.539678",
     "status": "completed"
    },
    "tags": []
   },
   "outputs": [],
   "source": [
    "upper = Q3 +1.5*IQR\n",
    "\n",
    "lower = Q1 - 1.5*IQR"
   ]
  },
  {
   "cell_type": "code",
   "execution_count": 9,
   "id": "60550577",
   "metadata": {
    "execution": {
     "iopub.execute_input": "2022-02-20T06:50:19.690003Z",
     "iopub.status.busy": "2022-02-20T06:50:19.689099Z",
     "iopub.status.idle": "2022-02-20T06:50:19.693370Z",
     "shell.execute_reply": "2022-02-20T06:50:19.692803Z",
     "shell.execute_reply.started": "2022-02-13T08:20:00.020585Z"
    },
    "papermill": {
     "duration": 0.055184,
     "end_time": "2022-02-20T06:50:19.693528",
     "exception": false,
     "start_time": "2022-02-20T06:50:19.638344",
     "status": "completed"
    },
    "tags": []
   },
   "outputs": [
    {
     "data": {
      "text/plain": [
       "11892.0"
      ]
     },
     "execution_count": 9,
     "metadata": {},
     "output_type": "execute_result"
    }
   ],
   "source": [
    "upper"
   ]
  },
  {
   "cell_type": "code",
   "execution_count": 10,
   "id": "e13e6339",
   "metadata": {
    "execution": {
     "iopub.execute_input": "2022-02-20T06:50:19.805572Z",
     "iopub.status.busy": "2022-02-20T06:50:19.804424Z",
     "iopub.status.idle": "2022-02-20T06:50:19.813098Z",
     "shell.execute_reply": "2022-02-20T06:50:19.811779Z",
     "shell.execute_reply.started": "2022-02-13T08:20:02.01123Z"
    },
    "papermill": {
     "duration": 0.073728,
     "end_time": "2022-02-20T06:50:19.813360",
     "exception": false,
     "start_time": "2022-02-20T06:50:19.739632",
     "status": "completed"
    },
    "tags": []
   },
   "outputs": [
    {
     "data": {
      "text/plain": [
       "-308.0"
      ]
     },
     "execution_count": 10,
     "metadata": {},
     "output_type": "execute_result"
    }
   ],
   "source": [
    "lower"
   ]
  },
  {
   "cell_type": "code",
   "execution_count": 11,
   "id": "18648ced",
   "metadata": {
    "execution": {
     "iopub.execute_input": "2022-02-20T06:50:19.925197Z",
     "iopub.status.busy": "2022-02-20T06:50:19.924519Z",
     "iopub.status.idle": "2022-02-20T06:50:19.927050Z",
     "shell.execute_reply": "2022-02-20T06:50:19.926432Z",
     "shell.execute_reply.started": "2022-02-13T05:32:28.798906Z"
    },
    "papermill": {
     "duration": 0.054584,
     "end_time": "2022-02-20T06:50:19.927194",
     "exception": false,
     "start_time": "2022-02-20T06:50:19.872610",
     "status": "completed"
    },
    "tags": []
   },
   "outputs": [],
   "source": [
    "import matplotlib.pyplot as plt\n",
    "%matplotlib inline"
   ]
  },
  {
   "cell_type": "code",
   "execution_count": 12,
   "id": "1c1f4405",
   "metadata": {
    "execution": {
     "iopub.execute_input": "2022-02-20T06:50:20.030068Z",
     "iopub.status.busy": "2022-02-20T06:50:20.028920Z",
     "iopub.status.idle": "2022-02-20T06:50:20.902835Z",
     "shell.execute_reply": "2022-02-20T06:50:20.903392Z",
     "shell.execute_reply.started": "2022-02-13T05:32:49.557431Z"
    },
    "papermill": {
     "duration": 0.930281,
     "end_time": "2022-02-20T06:50:20.903578",
     "exception": false,
     "start_time": "2022-02-20T06:50:19.973297",
     "status": "completed"
    },
    "tags": []
   },
   "outputs": [
    {
     "data": {
      "image/png": "[encoded data removed]",
      "text/plain": [
       "<Figure size 432x288 with 1 Axes>"
      ]
     },
     "metadata": {
      "needs_background": "light"
     },
     "output_type": "display_data"
    }
   ],
   "source": [
    "plt.hist(df.price_per_sqft, bins=20, rwidth=0.8)\n",
    "plt.xlabel('Price per square ft')\n",
    "plt.ylabel('Count')\n",
    "plt.yscale('log')\n",
    "plt.show()"
   ]
  },
  {
   "cell_type": "code",
   "execution_count": 13,
   "id": "abab2449",
   "metadata": {
    "execution": {
     "iopub.execute_input": "2022-02-20T06:50:21.004010Z",
     "iopub.status.busy": "2022-02-20T06:50:21.003270Z",
     "iopub.status.idle": "2022-02-20T06:50:48.877197Z",
     "shell.execute_reply": "2022-02-20T06:50:48.876608Z",
     "shell.execute_reply.started": "2022-02-13T05:33:06.654113Z"
    },
    "papermill": {
     "duration": 27.926592,
     "end_time": "2022-02-20T06:50:48.877387",
     "exception": false,
     "start_time": "2022-02-20T06:50:20.950795",
     "status": "completed"
    },
    "tags": []
   },
   "outputs": [
    {
     "data": {
      "text/plain": [
       "[<matplotlib.lines.Line2D at 0x7f4a071d9e90>]"
      ]
     },
     "execution_count": 13,
     "metadata": {},
     "output_type": "execute_result"
    },
    {
     "data": {
      "image/png": "[encoded data removed]",
      "text/plain": [
       "<Figure size 432x288 with 1 Axes>"
      ]
     },
     "metadata": {
      "needs_background": "light"
     },
     "output_type": "display_data"
    }
   ],
   "source": [
    "from scipy.stats import norm\n",
    "rng = np.arange(df.price_per_sqft.min(), df.price_per_sqft.max(), 0.1)\n",
    "plt.plot(rng, norm.pdf(rng,df.price_per_sqft.mean(),df.price_per_sqft.std()))"
   ]
  },
  {
   "cell_type": "code",
   "execution_count": 14,
   "id": "676ebf2e",
   "metadata": {
    "execution": {
     "iopub.execute_input": "2022-02-20T06:50:48.983637Z",
     "iopub.status.busy": "2022-02-20T06:50:48.982913Z",
     "iopub.status.idle": "2022-02-20T06:50:48.988029Z",
     "shell.execute_reply": "2022-02-20T06:50:48.988540Z",
     "shell.execute_reply.started": "2022-02-13T05:33:37.695743Z"
    },
    "papermill": {
     "duration": 0.061384,
     "end_time": "2022-02-20T06:50:48.988748",
     "exception": false,
     "start_time": "2022-02-20T06:50:48.927364",
     "status": "completed"
    },
    "tags": []
   },
   "outputs": [
    {
     "data": {
      "text/plain": [
       "(1366.184, 50959.36200000098)"
      ]
     },
     "execution_count": 14,
     "metadata": {},
     "output_type": "execute_result"
    }
   ],
   "source": [
    "lower_limit, upper_limit = df.price_per_sqft.quantile([0.001, 0.999])\n",
    "lower_limit, upper_limit"
   ]
  },
  {
   "cell_type": "code",
   "execution_count": 15,
   "id": "9a757edf",
   "metadata": {
    "execution": {
     "iopub.execute_input": "2022-02-20T06:50:49.090318Z",
     "iopub.status.busy": "2022-02-20T06:50:49.089634Z",
     "iopub.status.idle": "2022-02-20T06:50:49.108880Z",
     "shell.execute_reply": "2022-02-20T06:50:49.109533Z",
     "shell.execute_reply.started": "2022-02-13T05:33:39.680844Z"
    },
    "papermill": {
     "duration": 0.07159,
     "end_time": "2022-02-20T06:50:49.109739",
     "exception": false,
     "start_time": "2022-02-20T06:50:49.038149",
     "status": "completed"
    },
    "tags": []
   },
   "outputs": [
    {
     "data": {
      "text/html": [
       "<div>\n",
       "<style scoped>\n",
       "    .dataframe tbody tr th:only-of-type {\n",
       "        vertical-align: middle;\n",
       "    }\n",
       "\n",
       "    .dataframe tbody tr th {\n",
       "        vertical-align: top;\n",
       "    }\n",
       "\n",
       "    .dataframe thead th {\n",
       "        text-align: right;\n",
       "    }\n",
       "</style>\n",
       "<table border=\"1\" class=\"dataframe\">\n",
       "  <thead>\n",
       "    <tr style=\"text-align: right;\">\n",
       "      <th></th>\n",
       "      <th>location</th>\n",
       "      <th>size</th>\n",
       "      <th>total_sqft</th>\n",
       "      <th>bath</th>\n",
       "      <th>price</th>\n",
       "      <th>bhk</th>\n",
       "      <th>price_per_sqft</th>\n",
       "    </tr>\n",
       "  </thead>\n",
       "  <tbody>\n",
       "    <tr>\n",
       "      <th>345</th>\n",
       "      <td>other</td>\n",
       "      <td>3 Bedroom</td>\n",
       "      <td>11.0</td>\n",
       "      <td>3</td>\n",
       "      <td>74.0</td>\n",
       "      <td>3</td>\n",
       "      <td>672727</td>\n",
       "    </tr>\n",
       "    <tr>\n",
       "      <th>1005</th>\n",
       "      <td>other</td>\n",
       "      <td>1 BHK</td>\n",
       "      <td>15.0</td>\n",
       "      <td>1</td>\n",
       "      <td>30.0</td>\n",
       "      <td>1</td>\n",
       "      <td>200000</td>\n",
       "    </tr>\n",
       "    <tr>\n",
       "      <th>1106</th>\n",
       "      <td>other</td>\n",
       "      <td>5 Bedroom</td>\n",
       "      <td>24.0</td>\n",
       "      <td>2</td>\n",
       "      <td>150.0</td>\n",
       "      <td>5</td>\n",
       "      <td>625000</td>\n",
       "    </tr>\n",
       "    <tr>\n",
       "      <th>4044</th>\n",
       "      <td>Sarjapur  Road</td>\n",
       "      <td>4 Bedroom</td>\n",
       "      <td>1.0</td>\n",
       "      <td>4</td>\n",
       "      <td>120.0</td>\n",
       "      <td>4</td>\n",
       "      <td>12000000</td>\n",
       "    </tr>\n",
       "    <tr>\n",
       "      <th>4924</th>\n",
       "      <td>other</td>\n",
       "      <td>7 BHK</td>\n",
       "      <td>5.0</td>\n",
       "      <td>7</td>\n",
       "      <td>115.0</td>\n",
       "      <td>7</td>\n",
       "      <td>2300000</td>\n",
       "    </tr>\n",
       "    <tr>\n",
       "      <th>5911</th>\n",
       "      <td>Mysore Road</td>\n",
       "      <td>1 Bedroom</td>\n",
       "      <td>45.0</td>\n",
       "      <td>1</td>\n",
       "      <td>23.0</td>\n",
       "      <td>1</td>\n",
       "      <td>51111</td>\n",
       "    </tr>\n",
       "    <tr>\n",
       "      <th>6356</th>\n",
       "      <td>Bommenahalli</td>\n",
       "      <td>4 Bedroom</td>\n",
       "      <td>2940.0</td>\n",
       "      <td>3</td>\n",
       "      <td>2250.0</td>\n",
       "      <td>4</td>\n",
       "      <td>76530</td>\n",
       "    </tr>\n",
       "    <tr>\n",
       "      <th>7012</th>\n",
       "      <td>other</td>\n",
       "      <td>1 BHK</td>\n",
       "      <td>650.0</td>\n",
       "      <td>1</td>\n",
       "      <td>500.0</td>\n",
       "      <td>1</td>\n",
       "      <td>76923</td>\n",
       "    </tr>\n",
       "    <tr>\n",
       "      <th>7575</th>\n",
       "      <td>other</td>\n",
       "      <td>1 BHK</td>\n",
       "      <td>425.0</td>\n",
       "      <td>1</td>\n",
       "      <td>750.0</td>\n",
       "      <td>1</td>\n",
       "      <td>176470</td>\n",
       "    </tr>\n",
       "    <tr>\n",
       "      <th>7799</th>\n",
       "      <td>other</td>\n",
       "      <td>4 BHK</td>\n",
       "      <td>2000.0</td>\n",
       "      <td>3</td>\n",
       "      <td>1063.0</td>\n",
       "      <td>4</td>\n",
       "      <td>53150</td>\n",
       "    </tr>\n",
       "    <tr>\n",
       "      <th>8307</th>\n",
       "      <td>Bannerghatta Road</td>\n",
       "      <td>5 BHK</td>\n",
       "      <td>2500.0</td>\n",
       "      <td>4</td>\n",
       "      <td>1400.0</td>\n",
       "      <td>5</td>\n",
       "      <td>56000</td>\n",
       "    </tr>\n",
       "    <tr>\n",
       "      <th>9436</th>\n",
       "      <td>Indira Nagar</td>\n",
       "      <td>4 Bedroom</td>\n",
       "      <td>2400.0</td>\n",
       "      <td>5</td>\n",
       "      <td>1250.0</td>\n",
       "      <td>4</td>\n",
       "      <td>52083</td>\n",
       "    </tr>\n",
       "    <tr>\n",
       "      <th>11447</th>\n",
       "      <td>Whitefield</td>\n",
       "      <td>4 Bedroom</td>\n",
       "      <td>60.0</td>\n",
       "      <td>4</td>\n",
       "      <td>218.0</td>\n",
       "      <td>4</td>\n",
       "      <td>363333</td>\n",
       "    </tr>\n",
       "    <tr>\n",
       "      <th>12328</th>\n",
       "      <td>other</td>\n",
       "      <td>4 Bedroom</td>\n",
       "      <td>4350.0</td>\n",
       "      <td>8</td>\n",
       "      <td>2600.0</td>\n",
       "      <td>4</td>\n",
       "      <td>59770</td>\n",
       "    </tr>\n",
       "  </tbody>\n",
       "</table>\n",
       "</div>"
      ],
      "text/plain": [
       "                location       size  total_sqft  bath   price  bhk  \\\n",
       "345                other  3 Bedroom        11.0     3    74.0    3   \n",
       "1005               other      1 BHK        15.0     1    30.0    1   \n",
       "1106               other  5 Bedroom        24.0     2   150.0    5   \n",
       "4044      Sarjapur  Road  4 Bedroom         1.0     4   120.0    4   \n",
       "4924               other      7 BHK         5.0     7   115.0    7   \n",
       "5911         Mysore Road  1 Bedroom        45.0     1    23.0    1   \n",
       "6356        Bommenahalli  4 Bedroom      2940.0     3  2250.0    4   \n",
       "7012               other      1 BHK       650.0     1   500.0    1   \n",
       "7575               other      1 BHK       425.0     1   750.0    1   \n",
       "7799               other      4 BHK      2000.0     3  1063.0    4   \n",
       "8307   Bannerghatta Road      5 BHK      2500.0     4  1400.0    5   \n",
       "9436        Indira Nagar  4 Bedroom      2400.0     5  1250.0    4   \n",
       "11447         Whitefield  4 Bedroom        60.0     4   218.0    4   \n",
       "12328              other  4 Bedroom      4350.0     8  2600.0    4   \n",
       "\n",
       "       price_per_sqft  \n",
       "345            672727  \n",
       "1005           200000  \n",
       "1106           625000  \n",
       "4044         12000000  \n",
       "4924          2300000  \n",
       "5911            51111  \n",
       "6356            76530  \n",
       "7012            76923  \n",
       "7575           176470  \n",
       "7799            53150  \n",
       "8307            56000  \n",
       "9436            52083  \n",
       "11447          363333  \n",
       "12328           59770  "
      ]
     },
     "execution_count": 15,
     "metadata": {},
     "output_type": "execute_result"
    }
   ],
   "source": [
    "df[df.price_per_sqft > upper_limit]"
   ]
  },
  {
   "cell_type": "code",
   "execution_count": 16,
   "id": "b0562d80",
   "metadata": {
    "execution": {
     "iopub.execute_input": "2022-02-20T06:50:49.213959Z",
     "iopub.status.busy": "2022-02-20T06:50:49.212131Z",
     "iopub.status.idle": "2022-02-20T06:50:49.230265Z",
     "shell.execute_reply": "2022-02-20T06:50:49.229600Z",
     "shell.execute_reply.started": "2022-02-13T05:34:30.075718Z"
    },
    "papermill": {
     "duration": 0.071098,
     "end_time": "2022-02-20T06:50:49.230415",
     "exception": false,
     "start_time": "2022-02-20T06:50:49.159317",
     "status": "completed"
    },
    "tags": []
   },
   "outputs": [
    {
     "data": {
      "text/html": [
       "<div>\n",
       "<style scoped>\n",
       "    .dataframe tbody tr th:only-of-type {\n",
       "        vertical-align: middle;\n",
       "    }\n",
       "\n",
       "    .dataframe tbody tr th {\n",
       "        vertical-align: top;\n",
       "    }\n",
       "\n",
       "    .dataframe thead th {\n",
       "        text-align: right;\n",
       "    }\n",
       "</style>\n",
       "<table border=\"1\" class=\"dataframe\">\n",
       "  <thead>\n",
       "    <tr style=\"text-align: right;\">\n",
       "      <th></th>\n",
       "      <th>location</th>\n",
       "      <th>size</th>\n",
       "      <th>total_sqft</th>\n",
       "      <th>bath</th>\n",
       "      <th>price</th>\n",
       "      <th>bhk</th>\n",
       "      <th>price_per_sqft</th>\n",
       "    </tr>\n",
       "  </thead>\n",
       "  <tbody>\n",
       "    <tr>\n",
       "      <th>665</th>\n",
       "      <td>Yelahanka</td>\n",
       "      <td>3 BHK</td>\n",
       "      <td>35000.0</td>\n",
       "      <td>3</td>\n",
       "      <td>130.0</td>\n",
       "      <td>3</td>\n",
       "      <td>371</td>\n",
       "    </tr>\n",
       "    <tr>\n",
       "      <th>798</th>\n",
       "      <td>other</td>\n",
       "      <td>4 Bedroom</td>\n",
       "      <td>10961.0</td>\n",
       "      <td>4</td>\n",
       "      <td>80.0</td>\n",
       "      <td>4</td>\n",
       "      <td>729</td>\n",
       "    </tr>\n",
       "    <tr>\n",
       "      <th>1867</th>\n",
       "      <td>other</td>\n",
       "      <td>3 Bedroom</td>\n",
       "      <td>52272.0</td>\n",
       "      <td>2</td>\n",
       "      <td>140.0</td>\n",
       "      <td>3</td>\n",
       "      <td>267</td>\n",
       "    </tr>\n",
       "    <tr>\n",
       "      <th>2392</th>\n",
       "      <td>other</td>\n",
       "      <td>4 Bedroom</td>\n",
       "      <td>2000.0</td>\n",
       "      <td>3</td>\n",
       "      <td>25.0</td>\n",
       "      <td>4</td>\n",
       "      <td>1250</td>\n",
       "    </tr>\n",
       "    <tr>\n",
       "      <th>3934</th>\n",
       "      <td>other</td>\n",
       "      <td>1 BHK</td>\n",
       "      <td>1500.0</td>\n",
       "      <td>1</td>\n",
       "      <td>19.5</td>\n",
       "      <td>1</td>\n",
       "      <td>1300</td>\n",
       "    </tr>\n",
       "    <tr>\n",
       "      <th>5343</th>\n",
       "      <td>other</td>\n",
       "      <td>9 BHK</td>\n",
       "      <td>42000.0</td>\n",
       "      <td>8</td>\n",
       "      <td>175.0</td>\n",
       "      <td>9</td>\n",
       "      <td>416</td>\n",
       "    </tr>\n",
       "    <tr>\n",
       "      <th>5417</th>\n",
       "      <td>Ulsoor</td>\n",
       "      <td>4 BHK</td>\n",
       "      <td>36000.0</td>\n",
       "      <td>4</td>\n",
       "      <td>450.0</td>\n",
       "      <td>4</td>\n",
       "      <td>1250</td>\n",
       "    </tr>\n",
       "    <tr>\n",
       "      <th>5597</th>\n",
       "      <td>JP Nagar</td>\n",
       "      <td>2 BHK</td>\n",
       "      <td>1100.0</td>\n",
       "      <td>1</td>\n",
       "      <td>15.0</td>\n",
       "      <td>2</td>\n",
       "      <td>1363</td>\n",
       "    </tr>\n",
       "    <tr>\n",
       "      <th>7166</th>\n",
       "      <td>Yelahanka</td>\n",
       "      <td>1 Bedroom</td>\n",
       "      <td>26136.0</td>\n",
       "      <td>1</td>\n",
       "      <td>150.0</td>\n",
       "      <td>1</td>\n",
       "      <td>573</td>\n",
       "    </tr>\n",
       "    <tr>\n",
       "      <th>7862</th>\n",
       "      <td>JP Nagar</td>\n",
       "      <td>3 BHK</td>\n",
       "      <td>20000.0</td>\n",
       "      <td>3</td>\n",
       "      <td>175.0</td>\n",
       "      <td>3</td>\n",
       "      <td>875</td>\n",
       "    </tr>\n",
       "    <tr>\n",
       "      <th>8300</th>\n",
       "      <td>Kengeri</td>\n",
       "      <td>1 BHK</td>\n",
       "      <td>1200.0</td>\n",
       "      <td>1</td>\n",
       "      <td>14.0</td>\n",
       "      <td>1</td>\n",
       "      <td>1166</td>\n",
       "    </tr>\n",
       "    <tr>\n",
       "      <th>9144</th>\n",
       "      <td>other</td>\n",
       "      <td>4 Bedroom</td>\n",
       "      <td>10961.0</td>\n",
       "      <td>4</td>\n",
       "      <td>80.0</td>\n",
       "      <td>4</td>\n",
       "      <td>729</td>\n",
       "    </tr>\n",
       "    <tr>\n",
       "      <th>11635</th>\n",
       "      <td>Begur</td>\n",
       "      <td>3 BHK</td>\n",
       "      <td>2400.0</td>\n",
       "      <td>3</td>\n",
       "      <td>12.0</td>\n",
       "      <td>3</td>\n",
       "      <td>500</td>\n",
       "    </tr>\n",
       "    <tr>\n",
       "      <th>12355</th>\n",
       "      <td>other</td>\n",
       "      <td>4 BHK</td>\n",
       "      <td>16335.0</td>\n",
       "      <td>4</td>\n",
       "      <td>149.0</td>\n",
       "      <td>4</td>\n",
       "      <td>912</td>\n",
       "    </tr>\n",
       "  </tbody>\n",
       "</table>\n",
       "</div>"
      ],
      "text/plain": [
       "        location       size  total_sqft  bath  price  bhk  price_per_sqft\n",
       "665    Yelahanka      3 BHK     35000.0     3  130.0    3             371\n",
       "798        other  4 Bedroom     10961.0     4   80.0    4             729\n",
       "1867       other  3 Bedroom     52272.0     2  140.0    3             267\n",
       "2392       other  4 Bedroom      2000.0     3   25.0    4            1250\n",
       "3934       other      1 BHK      1500.0     1   19.5    1            1300\n",
       "5343       other      9 BHK     42000.0     8  175.0    9             416\n",
       "5417      Ulsoor      4 BHK     36000.0     4  450.0    4            1250\n",
       "5597    JP Nagar      2 BHK      1100.0     1   15.0    2            1363\n",
       "7166   Yelahanka  1 Bedroom     26136.0     1  150.0    1             573\n",
       "7862    JP Nagar      3 BHK     20000.0     3  175.0    3             875\n",
       "8300     Kengeri      1 BHK      1200.0     1   14.0    1            1166\n",
       "9144       other  4 Bedroom     10961.0     4   80.0    4             729\n",
       "11635      Begur      3 BHK      2400.0     3   12.0    3             500\n",
       "12355      other      4 BHK     16335.0     4  149.0    4             912"
      ]
     },
     "execution_count": 16,
     "metadata": {},
     "output_type": "execute_result"
    }
   ],
   "source": [
    "df[df.price_per_sqft < lower_limit]"
   ]
  },
  {
   "cell_type": "code",
   "execution_count": 17,
   "id": "7829c6dc",
   "metadata": {
    "execution": {
     "iopub.execute_input": "2022-02-20T06:50:49.338743Z",
     "iopub.status.busy": "2022-02-20T06:50:49.337503Z",
     "iopub.status.idle": "2022-02-20T06:50:49.346331Z",
     "shell.execute_reply": "2022-02-20T06:50:49.346993Z",
     "shell.execute_reply.started": "2022-02-13T04:54:46.343849Z"
    },
    "papermill": {
     "duration": 0.065958,
     "end_time": "2022-02-20T06:50:49.347184",
     "exception": false,
     "start_time": "2022-02-20T06:50:49.281226",
     "status": "completed"
    },
    "tags": []
   },
   "outputs": [
    {
     "data": {
      "text/plain": [
       "count    1.320000e+04\n",
       "mean     7.920337e+03\n",
       "std      1.067272e+05\n",
       "min      2.670000e+02\n",
       "25%      4.267000e+03\n",
       "50%      5.438000e+03\n",
       "75%      7.317000e+03\n",
       "max      1.200000e+07\n",
       "Name: price_per_sqft, dtype: float64"
      ]
     },
     "execution_count": 17,
     "metadata": {},
     "output_type": "execute_result"
    }
   ],
   "source": [
    "df.price_per_sqft.describe()"
   ]
  },
  {
   "cell_type": "code",
   "execution_count": 18,
   "id": "8617d417",
   "metadata": {
    "execution": {
     "iopub.execute_input": "2022-02-20T06:50:49.454064Z",
     "iopub.status.busy": "2022-02-20T06:50:49.453314Z",
     "iopub.status.idle": "2022-02-20T06:50:49.459433Z",
     "shell.execute_reply": "2022-02-20T06:50:49.460117Z",
     "shell.execute_reply.started": "2022-02-13T04:43:03.263739Z"
    },
    "papermill": {
     "duration": 0.061314,
     "end_time": "2022-02-20T06:50:49.460298",
     "exception": false,
     "start_time": "2022-02-20T06:50:49.398984",
     "status": "completed"
    },
    "tags": []
   },
   "outputs": [
    {
     "data": {
      "text/plain": [
       "2549.0"
      ]
     },
     "execution_count": 18,
     "metadata": {},
     "output_type": "execute_result"
    }
   ],
   "source": [
    "Q1 = np.percentile(df.price_per_sqft, 1,\n",
    "                   interpolation = 'midpoint')\n",
    "Q1"
   ]
  },
  {
   "cell_type": "code",
   "execution_count": 19,
   "id": "17ab6f7e",
   "metadata": {
    "execution": {
     "iopub.execute_input": "2022-02-20T06:50:49.568019Z",
     "iopub.status.busy": "2022-02-20T06:50:49.567296Z",
     "iopub.status.idle": "2022-02-20T06:50:49.573550Z",
     "shell.execute_reply": "2022-02-20T06:50:49.574149Z",
     "shell.execute_reply.started": "2022-02-12T11:51:42.509861Z"
    },
    "papermill": {
     "duration": 0.062183,
     "end_time": "2022-02-20T06:50:49.574336",
     "exception": false,
     "start_time": "2022-02-20T06:50:49.512153",
     "status": "completed"
    },
    "tags": []
   },
   "outputs": [
    {
     "data": {
      "text/plain": [
       "319.0"
      ]
     },
     "execution_count": 19,
     "metadata": {},
     "output_type": "execute_result"
    }
   ],
   "source": [
    "per = np.percentile(df['price_per_sqft'],0.001,interpolation = 'midpoint')\n",
    "per"
   ]
  },
  {
   "cell_type": "code",
   "execution_count": 20,
   "id": "82282b84",
   "metadata": {
    "execution": {
     "iopub.execute_input": "2022-02-20T06:50:49.683351Z",
     "iopub.status.busy": "2022-02-20T06:50:49.682643Z",
     "iopub.status.idle": "2022-02-20T06:50:49.689386Z",
     "shell.execute_reply": "2022-02-20T06:50:49.689962Z",
     "shell.execute_reply.started": "2022-02-12T11:51:56.886596Z"
    },
    "papermill": {
     "duration": 0.062519,
     "end_time": "2022-02-20T06:50:49.690138",
     "exception": false,
     "start_time": "2022-02-20T06:50:49.627619",
     "status": "completed"
    },
    "tags": []
   },
   "outputs": [
    {
     "data": {
      "text/plain": [
       "2549.0"
      ]
     },
     "execution_count": 20,
     "metadata": {},
     "output_type": "execute_result"
    }
   ],
   "source": [
    "per = np.percentile(df['price_per_sqft'],0.999, interpolation = 'midpoint')\n",
    "per"
   ]
  },
  {
   "cell_type": "code",
   "execution_count": 21,
   "id": "7fbaf90c",
   "metadata": {
    "execution": {
     "iopub.execute_input": "2022-02-20T06:50:49.801043Z",
     "iopub.status.busy": "2022-02-20T06:50:49.800311Z",
     "iopub.status.idle": "2022-02-20T06:50:49.806156Z",
     "shell.execute_reply": "2022-02-20T06:50:49.805514Z",
     "shell.execute_reply.started": "2022-02-12T11:55:08.34217Z"
    },
    "papermill": {
     "duration": 0.064138,
     "end_time": "2022-02-20T06:50:49.806312",
     "exception": false,
     "start_time": "2022-02-20T06:50:49.742174",
     "status": "completed"
    },
    "tags": []
   },
   "outputs": [
    {
     "data": {
      "text/plain": [
       "3050.0"
      ]
     },
     "execution_count": 21,
     "metadata": {},
     "output_type": "execute_result"
    }
   ],
   "source": [
    "Q1 = np.percentile(df.price_per_sqft, 25,\n",
    "                   interpolation = 'midpoint')\n",
    " \n",
    "Q3 = np.percentile(df.price_per_sqft, 75,\n",
    "                   interpolation = 'midpoint')\n",
    "IQR = Q3 - Q1\n",
    "IQR"
   ]
  },
  {
   "cell_type": "code",
   "execution_count": 22,
   "id": "f5849896",
   "metadata": {
    "execution": {
     "iopub.execute_input": "2022-02-20T06:50:49.918056Z",
     "iopub.status.busy": "2022-02-20T06:50:49.917350Z",
     "iopub.status.idle": "2022-02-20T06:50:49.920364Z",
     "shell.execute_reply": "2022-02-20T06:50:49.919834Z",
     "shell.execute_reply.started": "2022-02-12T11:55:13.171569Z"
    },
    "papermill": {
     "duration": 0.060847,
     "end_time": "2022-02-20T06:50:49.920549",
     "exception": false,
     "start_time": "2022-02-20T06:50:49.859702",
     "status": "completed"
    },
    "tags": []
   },
   "outputs": [],
   "source": [
    "upper = Q3 +1.5*IQR\n",
    "\n",
    "lower = Q1 - 1.5*IQR"
   ]
  },
  {
   "cell_type": "code",
   "execution_count": 23,
   "id": "09bc2e8d",
   "metadata": {
    "execution": {
     "iopub.execute_input": "2022-02-20T06:50:50.031166Z",
     "iopub.status.busy": "2022-02-20T06:50:50.030479Z",
     "iopub.status.idle": "2022-02-20T06:50:50.033830Z",
     "shell.execute_reply": "2022-02-20T06:50:50.034419Z",
     "shell.execute_reply.started": "2022-02-12T11:55:15.836465Z"
    },
    "papermill": {
     "duration": 0.061428,
     "end_time": "2022-02-20T06:50:50.034600",
     "exception": false,
     "start_time": "2022-02-20T06:50:49.973172",
     "status": "completed"
    },
    "tags": []
   },
   "outputs": [
    {
     "data": {
      "text/plain": [
       "-308.0"
      ]
     },
     "execution_count": 23,
     "metadata": {},
     "output_type": "execute_result"
    }
   ],
   "source": [
    "lower"
   ]
  },
  {
   "cell_type": "code",
   "execution_count": 24,
   "id": "c8de3eb9",
   "metadata": {
    "execution": {
     "iopub.execute_input": "2022-02-20T06:50:50.146809Z",
     "iopub.status.busy": "2022-02-20T06:50:50.144904Z",
     "iopub.status.idle": "2022-02-20T06:50:50.150068Z",
     "shell.execute_reply": "2022-02-20T06:50:50.150677Z",
     "shell.execute_reply.started": "2022-02-12T11:55:19.277922Z"
    },
    "papermill": {
     "duration": 0.062507,
     "end_time": "2022-02-20T06:50:50.150851",
     "exception": false,
     "start_time": "2022-02-20T06:50:50.088344",
     "status": "completed"
    },
    "tags": []
   },
   "outputs": [
    {
     "data": {
      "text/plain": [
       "11892.0"
      ]
     },
     "execution_count": 24,
     "metadata": {},
     "output_type": "execute_result"
    }
   ],
   "source": [
    "upper"
   ]
  },
  {
   "cell_type": "code",
   "execution_count": 25,
   "id": "e9f7a250",
   "metadata": {
    "execution": {
     "iopub.execute_input": "2022-02-20T06:50:50.262620Z",
     "iopub.status.busy": "2022-02-20T06:50:50.261916Z",
     "iopub.status.idle": "2022-02-20T06:50:50.269366Z",
     "shell.execute_reply": "2022-02-20T06:50:50.268782Z",
     "shell.execute_reply.started": "2022-02-12T11:49:21.937353Z"
    },
    "papermill": {
     "duration": 0.064599,
     "end_time": "2022-02-20T06:50:50.269516",
     "exception": false,
     "start_time": "2022-02-20T06:50:50.204917",
     "status": "completed"
    },
    "tags": []
   },
   "outputs": [
    {
     "data": {
      "text/plain": [
       "319.0"
      ]
     },
     "execution_count": 25,
     "metadata": {},
     "output_type": "execute_result"
    }
   ],
   "source": [
    "Q1 = np.percentile(df['price_per_sqft'], 0.001,\n",
    "                   interpolation = 'midpoint')\n",
    "Q1"
   ]
  },
  {
   "cell_type": "code",
   "execution_count": 26,
   "id": "43ac545a",
   "metadata": {
    "execution": {
     "iopub.execute_input": "2022-02-20T06:50:50.382050Z",
     "iopub.status.busy": "2022-02-20T06:50:50.381299Z",
     "iopub.status.idle": "2022-02-20T06:50:50.387430Z",
     "shell.execute_reply": "2022-02-20T06:50:50.388041Z",
     "shell.execute_reply.started": "2022-02-12T11:49:25.184623Z"
    },
    "papermill": {
     "duration": 0.064393,
     "end_time": "2022-02-20T06:50:50.388227",
     "exception": false,
     "start_time": "2022-02-20T06:50:50.323834",
     "status": "completed"
    },
    "tags": []
   },
   "outputs": [
    {
     "data": {
      "text/plain": [
       "2549.0"
      ]
     },
     "execution_count": 26,
     "metadata": {},
     "output_type": "execute_result"
    }
   ],
   "source": [
    "Q2 = np.percentile(df['price_per_sqft'], 0.999,\n",
    "                   interpolation = 'midpoint')\n",
    "Q2"
   ]
  },
  {
   "cell_type": "code",
   "execution_count": 27,
   "id": "319aa566",
   "metadata": {
    "execution": {
     "iopub.execute_input": "2022-02-20T06:50:50.502573Z",
     "iopub.status.busy": "2022-02-20T06:50:50.501885Z",
     "iopub.status.idle": "2022-02-20T06:50:50.507138Z",
     "shell.execute_reply": "2022-02-20T06:50:50.507831Z",
     "shell.execute_reply.started": "2022-02-12T06:35:51.726889Z"
    },
    "papermill": {
     "duration": 0.064422,
     "end_time": "2022-02-20T06:50:50.508012",
     "exception": false,
     "start_time": "2022-02-20T06:50:50.443590",
     "status": "completed"
    },
    "tags": []
   },
   "outputs": [
    {
     "data": {
      "text/plain": [
       "(13200, 7)"
      ]
     },
     "execution_count": 27,
     "metadata": {},
     "output_type": "execute_result"
    }
   ],
   "source": [
    "df.shape"
   ]
  },
  {
   "cell_type": "code",
   "execution_count": 28,
   "id": "533934ad",
   "metadata": {
    "execution": {
     "iopub.execute_input": "2022-02-20T06:50:50.624903Z",
     "iopub.status.busy": "2022-02-20T06:50:50.624116Z",
     "iopub.status.idle": "2022-02-20T06:50:50.628838Z",
     "shell.execute_reply": "2022-02-20T06:50:50.629350Z",
     "shell.execute_reply.started": "2022-02-12T11:45:33.543702Z"
    },
    "papermill": {
     "duration": 0.066021,
     "end_time": "2022-02-20T06:50:50.629528",
     "exception": false,
     "start_time": "2022-02-20T06:50:50.563507",
     "status": "completed"
    },
    "tags": []
   },
   "outputs": [],
   "source": [
    "quartile1 = df['price_per_sqft'].quantile(0.001)\n",
    "quartile3 = df['price_per_sqft'].quantile(0.999)"
   ]
  },
  {
   "cell_type": "code",
   "execution_count": 29,
   "id": "bf041299",
   "metadata": {
    "execution": {
     "iopub.execute_input": "2022-02-20T06:50:50.744754Z",
     "iopub.status.busy": "2022-02-20T06:50:50.744024Z",
     "iopub.status.idle": "2022-02-20T06:50:50.748488Z",
     "shell.execute_reply": "2022-02-20T06:50:50.749101Z",
     "shell.execute_reply.started": "2022-02-12T11:45:42.633808Z"
    },
    "papermill": {
     "duration": 0.063996,
     "end_time": "2022-02-20T06:50:50.749271",
     "exception": false,
     "start_time": "2022-02-20T06:50:50.685275",
     "status": "completed"
    },
    "tags": []
   },
   "outputs": [
    {
     "data": {
      "text/plain": [
       "1366.184"
      ]
     },
     "execution_count": 29,
     "metadata": {},
     "output_type": "execute_result"
    }
   ],
   "source": [
    "quartile1"
   ]
  },
  {
   "cell_type": "code",
   "execution_count": 30,
   "id": "20121343",
   "metadata": {
    "execution": {
     "iopub.execute_input": "2022-02-20T06:50:50.864961Z",
     "iopub.status.busy": "2022-02-20T06:50:50.864251Z",
     "iopub.status.idle": "2022-02-20T06:50:50.869458Z",
     "shell.execute_reply": "2022-02-20T06:50:50.870060Z",
     "shell.execute_reply.started": "2022-02-12T11:45:47.509453Z"
    },
    "papermill": {
     "duration": 0.065239,
     "end_time": "2022-02-20T06:50:50.870237",
     "exception": false,
     "start_time": "2022-02-20T06:50:50.804998",
     "status": "completed"
    },
    "tags": []
   },
   "outputs": [
    {
     "data": {
      "text/plain": [
       "50959.36200000098"
      ]
     },
     "execution_count": 30,
     "metadata": {},
     "output_type": "execute_result"
    }
   ],
   "source": [
    "quartile3"
   ]
  },
  {
   "cell_type": "code",
   "execution_count": 31,
   "id": "99ecc710",
   "metadata": {
    "execution": {
     "iopub.execute_input": "2022-02-20T06:50:50.989611Z",
     "iopub.status.busy": "2022-02-20T06:50:50.988929Z",
     "iopub.status.idle": "2022-02-20T06:50:50.993145Z",
     "shell.execute_reply": "2022-02-20T06:50:50.993713Z",
     "shell.execute_reply.started": "2022-02-12T11:44:15.402368Z"
    },
    "papermill": {
     "duration": 0.066995,
     "end_time": "2022-02-20T06:50:50.993890",
     "exception": false,
     "start_time": "2022-02-20T06:50:50.926895",
     "status": "completed"
    },
    "tags": []
   },
   "outputs": [
    {
     "data": {
      "text/plain": [
       "1366.184"
      ]
     },
     "execution_count": 31,
     "metadata": {},
     "output_type": "execute_result"
    }
   ],
   "source": [
    "df.price_per_sqft.quantile(0.001)"
   ]
  },
  {
   "cell_type": "code",
   "execution_count": 32,
   "id": "783baba4",
   "metadata": {
    "execution": {
     "iopub.execute_input": "2022-02-20T06:50:51.111438Z",
     "iopub.status.busy": "2022-02-20T06:50:51.110747Z",
     "iopub.status.idle": "2022-02-20T06:50:51.117362Z",
     "shell.execute_reply": "2022-02-20T06:50:51.117946Z",
     "shell.execute_reply.started": "2022-02-12T11:44:20.631631Z"
    },
    "papermill": {
     "duration": 0.067034,
     "end_time": "2022-02-20T06:50:51.118137",
     "exception": false,
     "start_time": "2022-02-20T06:50:51.051103",
     "status": "completed"
    },
    "tags": []
   },
   "outputs": [
    {
     "data": {
      "text/plain": [
       "1366.184"
      ]
     },
     "execution_count": 32,
     "metadata": {},
     "output_type": "execute_result"
    }
   ],
   "source": [
    "df['price_per_sqft'].quantile(0.001)"
   ]
  },
  {
   "cell_type": "code",
   "execution_count": null,
   "id": "5542b04a",
   "metadata": {
    "papermill": {
     "duration": 0.057026,
     "end_time": "2022-02-20T06:50:51.232750",
     "exception": false,
     "start_time": "2022-02-20T06:50:51.175724",
     "status": "completed"
    },
    "tags": []
   },
   "outputs": [],
   "source": []
  },
  {
   "cell_type": "code",
   "execution_count": 33,
   "id": "f3f452bb",
   "metadata": {
    "execution": {
     "iopub.execute_input": "2022-02-20T06:50:51.350717Z",
     "iopub.status.busy": "2022-02-20T06:50:51.350028Z",
     "iopub.status.idle": "2022-02-20T06:50:51.353014Z",
     "shell.execute_reply": "2022-02-20T06:50:51.353608Z",
     "shell.execute_reply.started": "2022-02-12T11:37:42.575965Z"
    },
    "papermill": {
     "duration": 0.063697,
     "end_time": "2022-02-20T06:50:51.353802",
     "exception": false,
     "start_time": "2022-02-20T06:50:51.290105",
     "status": "completed"
    },
    "tags": []
   },
   "outputs": [],
   "source": [
    "iqr = quartile3-quartile1"
   ]
  },
  {
   "cell_type": "code",
   "execution_count": 34,
   "id": "d5828953",
   "metadata": {
    "execution": {
     "iopub.execute_input": "2022-02-20T06:50:51.473514Z",
     "iopub.status.busy": "2022-02-20T06:50:51.472849Z",
     "iopub.status.idle": "2022-02-20T06:50:51.477869Z",
     "shell.execute_reply": "2022-02-20T06:50:51.478406Z",
     "shell.execute_reply.started": "2022-02-12T11:37:45.851778Z"
    },
    "papermill": {
     "duration": 0.066428,
     "end_time": "2022-02-20T06:50:51.478614",
     "exception": false,
     "start_time": "2022-02-20T06:50:51.412186",
     "status": "completed"
    },
    "tags": []
   },
   "outputs": [
    {
     "data": {
      "text/plain": [
       "49593.17800000098"
      ]
     },
     "execution_count": 34,
     "metadata": {},
     "output_type": "execute_result"
    }
   ],
   "source": [
    "iqr"
   ]
  },
  {
   "cell_type": "code",
   "execution_count": 35,
   "id": "e0989f31",
   "metadata": {
    "execution": {
     "iopub.execute_input": "2022-02-20T06:50:51.595193Z",
     "iopub.status.busy": "2022-02-20T06:50:51.594494Z",
     "iopub.status.idle": "2022-02-20T06:50:51.601707Z",
     "shell.execute_reply": "2022-02-20T06:50:51.602327Z",
     "shell.execute_reply.started": "2022-02-12T11:41:24.050751Z"
    },
    "papermill": {
     "duration": 0.067224,
     "end_time": "2022-02-20T06:50:51.602504",
     "exception": false,
     "start_time": "2022-02-20T06:50:51.535280",
     "status": "completed"
    },
    "tags": []
   },
   "outputs": [
    {
     "data": {
      "text/plain": [
       "(1366.184, 50959.36200000098)"
      ]
     },
     "execution_count": 35,
     "metadata": {},
     "output_type": "execute_result"
    }
   ],
   "source": [
    "lower_limit, upper_limit = df.price_per_sqft.quantile([0.001, 0.999])\n",
    "lower_limit, upper_limit"
   ]
  },
  {
   "cell_type": "code",
   "execution_count": 36,
   "id": "ed722e72",
   "metadata": {
    "execution": {
     "iopub.execute_input": "2022-02-20T06:50:51.722606Z",
     "iopub.status.busy": "2022-02-20T06:50:51.721918Z",
     "iopub.status.idle": "2022-02-20T06:50:51.726097Z",
     "shell.execute_reply": "2022-02-20T06:50:51.726748Z",
     "shell.execute_reply.started": "2022-02-12T11:43:17.363981Z"
    },
    "papermill": {
     "duration": 0.066803,
     "end_time": "2022-02-20T06:50:51.726929",
     "exception": false,
     "start_time": "2022-02-20T06:50:51.660126",
     "status": "completed"
    },
    "tags": []
   },
   "outputs": [],
   "source": [
    "quartile1 = df.price_per_sqft.quantile(0.001)\n",
    "quartile3 = df.price_per_sqft.quantile(0.999)"
   ]
  },
  {
   "cell_type": "code",
   "execution_count": 37,
   "id": "e5bad68c",
   "metadata": {
    "execution": {
     "iopub.execute_input": "2022-02-20T06:50:51.848598Z",
     "iopub.status.busy": "2022-02-20T06:50:51.847938Z",
     "iopub.status.idle": "2022-02-20T06:50:51.851015Z",
     "shell.execute_reply": "2022-02-20T06:50:51.851617Z",
     "shell.execute_reply.started": "2022-02-12T11:43:19.822736Z"
    },
    "papermill": {
     "duration": 0.066192,
     "end_time": "2022-02-20T06:50:51.851800",
     "exception": false,
     "start_time": "2022-02-20T06:50:51.785608",
     "status": "completed"
    },
    "tags": []
   },
   "outputs": [
    {
     "data": {
      "text/plain": [
       "1366.184"
      ]
     },
     "execution_count": 37,
     "metadata": {},
     "output_type": "execute_result"
    }
   ],
   "source": [
    "quartile1"
   ]
  },
  {
   "cell_type": "code",
   "execution_count": 38,
   "id": "7069b81f",
   "metadata": {
    "execution": {
     "iopub.execute_input": "2022-02-20T06:50:51.971611Z",
     "iopub.status.busy": "2022-02-20T06:50:51.970569Z",
     "iopub.status.idle": "2022-02-20T06:50:51.976304Z",
     "shell.execute_reply": "2022-02-20T06:50:51.976914Z",
     "shell.execute_reply.started": "2022-02-12T11:43:23.484644Z"
    },
    "papermill": {
     "duration": 0.067272,
     "end_time": "2022-02-20T06:50:51.977091",
     "exception": false,
     "start_time": "2022-02-20T06:50:51.909819",
     "status": "completed"
    },
    "tags": []
   },
   "outputs": [
    {
     "data": {
      "text/plain": [
       "50959.36200000098"
      ]
     },
     "execution_count": 38,
     "metadata": {},
     "output_type": "execute_result"
    }
   ],
   "source": [
    "quartile3"
   ]
  }
 ],
 "metadata": {
  "kernelspec": {
   "display_name": "Python 3",
   "language": "python",
   "name": "python3"
  },
  "language_info": {
   "codemirror_mode": {
    "name": "ipython",
    "version": 3
   },
   "file_extension": ".py",
   "mimetype": "text/x-python",
   "name": "python",
   "nbconvert_exporter": "python",
   "pygments_lexer": "ipython3",
   "version": "3.7.12"
  },
  "papermill": {
   "default_parameters": {},
   "duration": 43.738254,
   "end_time": "2022-02-20T06:50:52.745232",
   "environment_variables": {},
   "exception": null,
   "input_path": "__notebook__.ipynb",
   "output_path": "__notebook__.ipynb",
   "parameters": {},
   "start_time": "2022-02-20T06:50:09.006978",
   "version": "2.3.3"
  }
 },
 "nbformat": 4,
 "nbformat_minor": 5
}
