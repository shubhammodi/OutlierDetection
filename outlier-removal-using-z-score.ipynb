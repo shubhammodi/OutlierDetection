{
 "cells": [
  {
   "cell_type": "markdown",
   "id": "04494957",
   "metadata": {
    "papermill": {
     "duration": 0.019453,
     "end_time": "2022-02-20T06:17:46.334713",
     "exception": false,
     "start_time": "2022-02-20T06:17:46.315260",
     "status": "completed"
    },
    "tags": []
   },
   "source": [
    "Z-Score approach - (Z-score for anomaly detection) - Z-score tells how many standard deviations away a given observation is from the mean"
   ]
  },
  {
   "cell_type": "code",
   "execution_count": 1,
   "id": "8a9ffdbb",
   "metadata": {
    "execution": {
     "iopub.execute_input": "2022-02-20T06:17:46.379457Z",
     "iopub.status.busy": "2022-02-20T06:17:46.378758Z",
     "iopub.status.idle": "2022-02-20T06:17:46.382853Z",
     "shell.execute_reply": "2022-02-20T06:17:46.382046Z",
     "shell.execute_reply.started": "2022-02-20T06:17:23.742111Z"
    },
    "papermill": {
     "duration": 0.030599,
     "end_time": "2022-02-20T06:17:46.383053",
     "exception": false,
     "start_time": "2022-02-20T06:17:46.352454",
     "status": "completed"
    },
    "tags": []
   },
   "outputs": [],
   "source": [
    "import numpy as np\n",
    "import pandas as pd"
   ]
  },
  {
   "cell_type": "code",
   "execution_count": 2,
   "id": "659e70be",
   "metadata": {
    "execution": {
     "iopub.execute_input": "2022-02-20T06:17:46.422989Z",
     "iopub.status.busy": "2022-02-20T06:17:46.421439Z",
     "iopub.status.idle": "2022-02-20T06:17:46.426158Z",
     "shell.execute_reply": "2022-02-20T06:17:46.426684Z",
     "shell.execute_reply.started": "2022-02-20T05:47:20.929565Z"
    },
    "papermill": {
     "duration": 0.026752,
     "end_time": "2022-02-20T06:17:46.426896",
     "exception": false,
     "start_time": "2022-02-20T06:17:46.400144",
     "status": "completed"
    },
    "tags": []
   },
   "outputs": [],
   "source": [
    "import matplotlib.pyplot as plt"
   ]
  },
  {
   "cell_type": "code",
   "execution_count": 3,
   "id": "edc0d8d9",
   "metadata": {
    "execution": {
     "iopub.execute_input": "2022-02-20T06:17:46.466623Z",
     "iopub.status.busy": "2022-02-20T06:17:46.465966Z",
     "iopub.status.idle": "2022-02-20T06:17:46.470074Z",
     "shell.execute_reply": "2022-02-20T06:17:46.470601Z",
     "shell.execute_reply.started": "2022-02-20T06:06:34.873466Z"
    },
    "papermill": {
     "duration": 0.025535,
     "end_time": "2022-02-20T06:17:46.470793",
     "exception": false,
     "start_time": "2022-02-20T06:17:46.445258",
     "status": "completed"
    },
    "tags": []
   },
   "outputs": [],
   "source": [
    "mu, sigma = 50, 10\n",
    "s = np.random.normal(mu, sigma, 100)"
   ]
  },
  {
   "cell_type": "code",
   "execution_count": 4,
   "id": "be47e70e",
   "metadata": {
    "execution": {
     "iopub.execute_input": "2022-02-20T06:17:46.508865Z",
     "iopub.status.busy": "2022-02-20T06:17:46.507875Z",
     "iopub.status.idle": "2022-02-20T06:17:46.760702Z",
     "shell.execute_reply": "2022-02-20T06:17:46.760143Z"
    },
    "papermill": {
     "duration": 0.273105,
     "end_time": "2022-02-20T06:17:46.760860",
     "exception": false,
     "start_time": "2022-02-20T06:17:46.487755",
     "status": "completed"
    },
    "tags": []
   },
   "outputs": [
    {
     "data": {
      "text/plain": [
       "(array([ 3.,  7.,  5., 13., 15., 19., 15., 12.,  9.,  2.]),\n",
       " array([24.88286196, 29.87310179, 34.86334163, 39.85358146, 44.84382129,\n",
       "        49.83406112, 54.82430095, 59.81454078, 64.80478061, 69.79502044,\n",
       "        74.78526027]),\n",
       " <BarContainer object of 10 artists>)"
      ]
     },
     "execution_count": 4,
     "metadata": {},
     "output_type": "execute_result"
    },
    {
     "data": {
      "image/png": "[encoded data removed]",
      "text/plain": [
       "<Figure size 432x288 with 1 Axes>"
      ]
     },
     "metadata": {
      "needs_background": "light"
     },
     "output_type": "display_data"
    }
   ],
   "source": [
    "plt.hist(s)"
   ]
  },
  {
   "cell_type": "code",
   "execution_count": 5,
   "id": "e0655bfd",
   "metadata": {
    "execution": {
     "iopub.execute_input": "2022-02-20T06:17:46.980334Z",
     "iopub.status.busy": "2022-02-20T06:17:46.979532Z",
     "iopub.status.idle": "2022-02-20T06:17:47.185689Z",
     "shell.execute_reply": "2022-02-20T06:17:47.184870Z",
     "shell.execute_reply.started": "2022-02-20T06:07:38.880228Z"
    },
    "papermill": {
     "duration": 0.406753,
     "end_time": "2022-02-20T06:17:47.185852",
     "exception": false,
     "start_time": "2022-02-20T06:17:46.779099",
     "status": "completed"
    },
    "tags": []
   },
   "outputs": [
    {
     "data": {
      "text/plain": [
       "(array([ 3.,  7.,  5., 13., 15., 19., 15., 12.,  9.,  2.]),\n",
       " array([24.88286196, 29.87310179, 34.86334163, 39.85358146, 44.84382129,\n",
       "        49.83406112, 54.82430095, 59.81454078, 64.80478061, 69.79502044,\n",
       "        74.78526027]),\n",
       " <BarContainer object of 10 artists>)"
      ]
     },
     "execution_count": 5,
     "metadata": {},
     "output_type": "execute_result"
    },
    {
     "data": {
      "image/png": "[encoded data removed]",
      "text/plain": [
       "<Figure size 432x288 with 1 Axes>"
      ]
     },
     "metadata": {
      "needs_background": "light"
     },
     "output_type": "display_data"
    }
   ],
   "source": [
    "plt.hist(s)"
   ]
  },
  {
   "cell_type": "code",
   "execution_count": 6,
   "id": "f1f43dc6",
   "metadata": {
    "execution": {
     "iopub.execute_input": "2022-02-20T06:17:47.259711Z",
     "iopub.status.busy": "2022-02-20T06:17:47.256346Z",
     "iopub.status.idle": "2022-02-20T06:17:47.638426Z",
     "shell.execute_reply": "2022-02-20T06:17:47.638946Z",
     "shell.execute_reply.started": "2022-02-20T06:07:26.015924Z"
    },
    "papermill": {
     "duration": 0.433166,
     "end_time": "2022-02-20T06:17:47.639138",
     "exception": false,
     "start_time": "2022-02-20T06:17:47.205972",
     "status": "completed"
    },
    "tags": []
   },
   "outputs": [
    {
     "data": {
      "text/plain": [
       "<BarContainer object of 100 artists>"
      ]
     },
     "execution_count": 6,
     "metadata": {},
     "output_type": "execute_result"
    },
    {
     "data": {
      "image/png": "[encoded data removed]",
      "text/plain": [
       "<Figure size 432x288 with 1 Axes>"
      ]
     },
     "metadata": {
      "needs_background": "light"
     },
     "output_type": "display_data"
    }
   ],
   "source": [
    "y = np.arange(len(s))\n",
    "plt.bar(y,s)"
   ]
  },
  {
   "cell_type": "code",
   "execution_count": 7,
   "id": "194567c7",
   "metadata": {
    "execution": {
     "iopub.execute_input": "2022-02-20T06:17:47.687167Z",
     "iopub.status.busy": "2022-02-20T06:17:47.685043Z",
     "iopub.status.idle": "2022-02-20T06:17:47.690199Z",
     "shell.execute_reply": "2022-02-20T06:17:47.689653Z",
     "shell.execute_reply.started": "2022-02-20T06:07:20.052432Z"
    },
    "papermill": {
     "duration": 0.030018,
     "end_time": "2022-02-20T06:17:47.690375",
     "exception": false,
     "start_time": "2022-02-20T06:17:47.660357",
     "status": "completed"
    },
    "tags": []
   },
   "outputs": [],
   "source": [
    "s[85] = 120\n",
    "s[15] = -120"
   ]
  },
  {
   "cell_type": "code",
   "execution_count": 8,
   "id": "dff243b3",
   "metadata": {
    "execution": {
     "iopub.execute_input": "2022-02-20T06:17:47.737262Z",
     "iopub.status.busy": "2022-02-20T06:17:47.736623Z",
     "iopub.status.idle": "2022-02-20T06:17:47.739738Z",
     "shell.execute_reply": "2022-02-20T06:17:47.740235Z",
     "shell.execute_reply.started": "2022-02-20T05:51:58.406285Z"
    },
    "papermill": {
     "duration": 0.029611,
     "end_time": "2022-02-20T06:17:47.740418",
     "exception": false,
     "start_time": "2022-02-20T06:17:47.710807",
     "status": "completed"
    },
    "tags": []
   },
   "outputs": [
    {
     "data": {
      "text/plain": [
       "100"
      ]
     },
     "execution_count": 8,
     "metadata": {},
     "output_type": "execute_result"
    }
   ],
   "source": [
    "len(s)"
   ]
  },
  {
   "cell_type": "code",
   "execution_count": 9,
   "id": "08f0081c",
   "metadata": {
    "execution": {
     "iopub.execute_input": "2022-02-20T06:17:47.789814Z",
     "iopub.status.busy": "2022-02-20T06:17:47.789064Z",
     "iopub.status.idle": "2022-02-20T06:17:47.807527Z",
     "shell.execute_reply": "2022-02-20T06:17:47.808188Z",
     "shell.execute_reply.started": "2022-02-20T06:09:07.598219Z"
    },
    "papermill": {
     "duration": 0.044839,
     "end_time": "2022-02-20T06:17:47.808390",
     "exception": false,
     "start_time": "2022-02-20T06:17:47.763551",
     "status": "completed"
    },
    "tags": []
   },
   "outputs": [
    {
     "data": {
      "text/html": [
       "<div>\n",
       "<style scoped>\n",
       "    .dataframe tbody tr th:only-of-type {\n",
       "        vertical-align: middle;\n",
       "    }\n",
       "\n",
       "    .dataframe tbody tr th {\n",
       "        vertical-align: top;\n",
       "    }\n",
       "\n",
       "    .dataframe thead th {\n",
       "        text-align: right;\n",
       "    }\n",
       "</style>\n",
       "<table border=\"1\" class=\"dataframe\">\n",
       "  <thead>\n",
       "    <tr style=\"text-align: right;\">\n",
       "      <th></th>\n",
       "      <th>Data</th>\n",
       "    </tr>\n",
       "  </thead>\n",
       "  <tbody>\n",
       "    <tr>\n",
       "      <th>0</th>\n",
       "      <td>44.792379</td>\n",
       "    </tr>\n",
       "    <tr>\n",
       "      <th>1</th>\n",
       "      <td>28.676840</td>\n",
       "    </tr>\n",
       "    <tr>\n",
       "      <th>2</th>\n",
       "      <td>39.062752</td>\n",
       "    </tr>\n",
       "    <tr>\n",
       "      <th>3</th>\n",
       "      <td>47.920574</td>\n",
       "    </tr>\n",
       "    <tr>\n",
       "      <th>4</th>\n",
       "      <td>56.141552</td>\n",
       "    </tr>\n",
       "  </tbody>\n",
       "</table>\n",
       "</div>"
      ],
      "text/plain": [
       "        Data\n",
       "0  44.792379\n",
       "1  28.676840\n",
       "2  39.062752\n",
       "3  47.920574\n",
       "4  56.141552"
      ]
     },
     "execution_count": 9,
     "metadata": {},
     "output_type": "execute_result"
    }
   ],
   "source": [
    "df = pd.DataFrame(s,columns=['Data'])\n",
    "df.head()"
   ]
  },
  {
   "cell_type": "code",
   "execution_count": 10,
   "id": "8609f71b",
   "metadata": {
    "execution": {
     "iopub.execute_input": "2022-02-20T06:17:47.856544Z",
     "iopub.status.busy": "2022-02-20T06:17:47.855848Z",
     "iopub.status.idle": "2022-02-20T06:17:47.865329Z",
     "shell.execute_reply": "2022-02-20T06:17:47.865949Z",
     "shell.execute_reply.started": "2022-02-20T06:09:12.774568Z"
    },
    "papermill": {
     "duration": 0.035987,
     "end_time": "2022-02-20T06:17:47.866140",
     "exception": false,
     "start_time": "2022-02-20T06:17:47.830153",
     "status": "completed"
    },
    "tags": []
   },
   "outputs": [],
   "source": [
    "for col in df.columns:\n",
    "    col_zscore = col + '_zscore'\n",
    "    df[col_zscore] = (df[col] - df[col].mean())/df[col].std(ddof=0)"
   ]
  },
  {
   "cell_type": "code",
   "execution_count": 11,
   "id": "00d8e9a7",
   "metadata": {
    "execution": {
     "iopub.execute_input": "2022-02-20T06:17:47.923137Z",
     "iopub.status.busy": "2022-02-20T06:17:47.922443Z",
     "iopub.status.idle": "2022-02-20T06:17:47.924375Z",
     "shell.execute_reply": "2022-02-20T06:17:47.924898Z",
     "shell.execute_reply.started": "2022-02-20T06:09:15.846452Z"
    },
    "papermill": {
     "duration": 0.035461,
     "end_time": "2022-02-20T06:17:47.925087",
     "exception": false,
     "start_time": "2022-02-20T06:17:47.889626",
     "status": "completed"
    },
    "tags": []
   },
   "outputs": [],
   "source": [
    "df['outlier'] = (abs(df['Data_zscore'])> 3).astype(int)"
   ]
  },
  {
   "cell_type": "code",
   "execution_count": 12,
   "id": "44bcc09b",
   "metadata": {
    "execution": {
     "iopub.execute_input": "2022-02-20T06:17:47.973378Z",
     "iopub.status.busy": "2022-02-20T06:17:47.972674Z",
     "iopub.status.idle": "2022-02-20T06:17:47.982562Z",
     "shell.execute_reply": "2022-02-20T06:17:47.983174Z",
     "shell.execute_reply.started": "2022-02-20T06:09:18.738886Z"
    },
    "papermill": {
     "duration": 0.035618,
     "end_time": "2022-02-20T06:17:47.983372",
     "exception": false,
     "start_time": "2022-02-20T06:17:47.947754",
     "status": "completed"
    },
    "tags": []
   },
   "outputs": [
    {
     "data": {
      "text/html": [
       "<div>\n",
       "<style scoped>\n",
       "    .dataframe tbody tr th:only-of-type {\n",
       "        vertical-align: middle;\n",
       "    }\n",
       "\n",
       "    .dataframe tbody tr th {\n",
       "        vertical-align: top;\n",
       "    }\n",
       "\n",
       "    .dataframe thead th {\n",
       "        text-align: right;\n",
       "    }\n",
       "</style>\n",
       "<table border=\"1\" class=\"dataframe\">\n",
       "  <thead>\n",
       "    <tr style=\"text-align: right;\">\n",
       "      <th></th>\n",
       "      <th>Data</th>\n",
       "      <th>Data_zscore</th>\n",
       "      <th>outlier</th>\n",
       "    </tr>\n",
       "  </thead>\n",
       "  <tbody>\n",
       "    <tr>\n",
       "      <th>95</th>\n",
       "      <td>65.660056</td>\n",
       "      <td>0.724757</td>\n",
       "      <td>0</td>\n",
       "    </tr>\n",
       "    <tr>\n",
       "      <th>96</th>\n",
       "      <td>61.864976</td>\n",
       "      <td>0.545407</td>\n",
       "      <td>0</td>\n",
       "    </tr>\n",
       "    <tr>\n",
       "      <th>97</th>\n",
       "      <td>56.743384</td>\n",
       "      <td>0.303368</td>\n",
       "      <td>0</td>\n",
       "    </tr>\n",
       "    <tr>\n",
       "      <th>98</th>\n",
       "      <td>60.231989</td>\n",
       "      <td>0.468234</td>\n",
       "      <td>0</td>\n",
       "    </tr>\n",
       "    <tr>\n",
       "      <th>99</th>\n",
       "      <td>54.160664</td>\n",
       "      <td>0.181312</td>\n",
       "      <td>0</td>\n",
       "    </tr>\n",
       "  </tbody>\n",
       "</table>\n",
       "</div>"
      ],
      "text/plain": [
       "         Data  Data_zscore  outlier\n",
       "95  65.660056     0.724757        0\n",
       "96  61.864976     0.545407        0\n",
       "97  56.743384     0.303368        0\n",
       "98  60.231989     0.468234        0\n",
       "99  54.160664     0.181312        0"
      ]
     },
     "execution_count": 12,
     "metadata": {},
     "output_type": "execute_result"
    }
   ],
   "source": [
    "df.tail()"
   ]
  },
  {
   "cell_type": "code",
   "execution_count": 13,
   "id": "c446e137",
   "metadata": {
    "execution": {
     "iopub.execute_input": "2022-02-20T06:17:48.034017Z",
     "iopub.status.busy": "2022-02-20T06:17:48.033309Z",
     "iopub.status.idle": "2022-02-20T06:17:48.045563Z",
     "shell.execute_reply": "2022-02-20T06:17:48.044576Z",
     "shell.execute_reply.started": "2022-02-20T06:09:21.888785Z"
    },
    "papermill": {
     "duration": 0.038636,
     "end_time": "2022-02-20T06:17:48.045820",
     "exception": false,
     "start_time": "2022-02-20T06:17:48.007184",
     "status": "completed"
    },
    "tags": []
   },
   "outputs": [
    {
     "name": "stdout",
     "output_type": "stream",
     "text": [
      "Print number of outliers = 2\n"
     ]
    }
   ],
   "source": [
    "print (\"Print number of outliers = \" +str(df.outlier.value_counts()[1]))"
   ]
  },
  {
   "cell_type": "code",
   "execution_count": 14,
   "id": "86555a39",
   "metadata": {
    "execution": {
     "iopub.execute_input": "2022-02-20T06:17:48.104234Z",
     "iopub.status.busy": "2022-02-20T06:17:48.103575Z",
     "iopub.status.idle": "2022-02-20T06:17:48.112022Z",
     "shell.execute_reply": "2022-02-20T06:17:48.111366Z",
     "shell.execute_reply.started": "2022-02-20T06:09:24.257131Z"
    },
    "papermill": {
     "duration": 0.042111,
     "end_time": "2022-02-20T06:17:48.112174",
     "exception": false,
     "start_time": "2022-02-20T06:17:48.070063",
     "status": "completed"
    },
    "tags": []
   },
   "outputs": [
    {
     "data": {
      "text/html": [
       "<div>\n",
       "<style scoped>\n",
       "    .dataframe tbody tr th:only-of-type {\n",
       "        vertical-align: middle;\n",
       "    }\n",
       "\n",
       "    .dataframe tbody tr th {\n",
       "        vertical-align: top;\n",
       "    }\n",
       "\n",
       "    .dataframe thead th {\n",
       "        text-align: right;\n",
       "    }\n",
       "</style>\n",
       "<table border=\"1\" class=\"dataframe\">\n",
       "  <thead>\n",
       "    <tr style=\"text-align: right;\">\n",
       "      <th></th>\n",
       "      <th>Data</th>\n",
       "      <th>Data_zscore</th>\n",
       "      <th>outlier</th>\n",
       "    </tr>\n",
       "  </thead>\n",
       "  <tbody>\n",
       "    <tr>\n",
       "      <th>15</th>\n",
       "      <td>-120.0</td>\n",
       "      <td>-8.049287</td>\n",
       "      <td>1</td>\n",
       "    </tr>\n",
       "    <tr>\n",
       "      <th>85</th>\n",
       "      <td>120.0</td>\n",
       "      <td>3.292790</td>\n",
       "      <td>1</td>\n",
       "    </tr>\n",
       "  </tbody>\n",
       "</table>\n",
       "</div>"
      ],
      "text/plain": [
       "     Data  Data_zscore  outlier\n",
       "15 -120.0    -8.049287        1\n",
       "85  120.0     3.292790        1"
      ]
     },
     "execution_count": 14,
     "metadata": {},
     "output_type": "execute_result"
    }
   ],
   "source": [
    "df.loc[df.outlier == 1]"
   ]
  },
  {
   "cell_type": "code",
   "execution_count": 15,
   "id": "6c7ed266",
   "metadata": {
    "execution": {
     "iopub.execute_input": "2022-02-20T06:17:48.172755Z",
     "iopub.status.busy": "2022-02-20T06:17:48.172013Z",
     "iopub.status.idle": "2022-02-20T06:17:48.175030Z",
     "shell.execute_reply": "2022-02-20T06:17:48.175535Z",
     "shell.execute_reply.started": "2022-02-20T06:09:29.154210Z"
    },
    "papermill": {
     "duration": 0.03976,
     "end_time": "2022-02-20T06:17:48.175728",
     "exception": false,
     "start_time": "2022-02-20T06:17:48.135968",
     "status": "completed"
    },
    "tags": []
   },
   "outputs": [
    {
     "data": {
      "text/html": [
       "<div>\n",
       "<style scoped>\n",
       "    .dataframe tbody tr th:only-of-type {\n",
       "        vertical-align: middle;\n",
       "    }\n",
       "\n",
       "    .dataframe tbody tr th {\n",
       "        vertical-align: top;\n",
       "    }\n",
       "\n",
       "    .dataframe thead th {\n",
       "        text-align: right;\n",
       "    }\n",
       "</style>\n",
       "<table border=\"1\" class=\"dataframe\">\n",
       "  <thead>\n",
       "    <tr style=\"text-align: right;\">\n",
       "      <th></th>\n",
       "      <th>Data</th>\n",
       "      <th>Data_zscore</th>\n",
       "      <th>outlier</th>\n",
       "    </tr>\n",
       "  </thead>\n",
       "  <tbody>\n",
       "    <tr>\n",
       "      <th>0</th>\n",
       "      <td>44.792379</td>\n",
       "      <td>-0.261421</td>\n",
       "      <td>0</td>\n",
       "    </tr>\n",
       "    <tr>\n",
       "      <th>1</th>\n",
       "      <td>28.676840</td>\n",
       "      <td>-1.023020</td>\n",
       "      <td>0</td>\n",
       "    </tr>\n",
       "    <tr>\n",
       "      <th>2</th>\n",
       "      <td>39.062752</td>\n",
       "      <td>-0.532195</td>\n",
       "      <td>0</td>\n",
       "    </tr>\n",
       "    <tr>\n",
       "      <th>3</th>\n",
       "      <td>47.920574</td>\n",
       "      <td>-0.113587</td>\n",
       "      <td>0</td>\n",
       "    </tr>\n",
       "    <tr>\n",
       "      <th>4</th>\n",
       "      <td>56.141552</td>\n",
       "      <td>0.274926</td>\n",
       "      <td>0</td>\n",
       "    </tr>\n",
       "    <tr>\n",
       "      <th>5</th>\n",
       "      <td>37.744057</td>\n",
       "      <td>-0.594515</td>\n",
       "      <td>0</td>\n",
       "    </tr>\n",
       "    <tr>\n",
       "      <th>6</th>\n",
       "      <td>44.305250</td>\n",
       "      <td>-0.284442</td>\n",
       "      <td>0</td>\n",
       "    </tr>\n",
       "    <tr>\n",
       "      <th>7</th>\n",
       "      <td>42.796350</td>\n",
       "      <td>-0.355751</td>\n",
       "      <td>0</td>\n",
       "    </tr>\n",
       "    <tr>\n",
       "      <th>8</th>\n",
       "      <td>46.104813</td>\n",
       "      <td>-0.199397</td>\n",
       "      <td>0</td>\n",
       "    </tr>\n",
       "    <tr>\n",
       "      <th>9</th>\n",
       "      <td>50.645138</td>\n",
       "      <td>0.015173</td>\n",
       "      <td>0</td>\n",
       "    </tr>\n",
       "    <tr>\n",
       "      <th>10</th>\n",
       "      <td>47.306038</td>\n",
       "      <td>-0.142629</td>\n",
       "      <td>0</td>\n",
       "    </tr>\n",
       "    <tr>\n",
       "      <th>11</th>\n",
       "      <td>32.920128</td>\n",
       "      <td>-0.822488</td>\n",
       "      <td>0</td>\n",
       "    </tr>\n",
       "    <tr>\n",
       "      <th>12</th>\n",
       "      <td>51.228751</td>\n",
       "      <td>0.042753</td>\n",
       "      <td>0</td>\n",
       "    </tr>\n",
       "    <tr>\n",
       "      <th>13</th>\n",
       "      <td>30.119918</td>\n",
       "      <td>-0.954822</td>\n",
       "      <td>0</td>\n",
       "    </tr>\n",
       "    <tr>\n",
       "      <th>14</th>\n",
       "      <td>54.001707</td>\n",
       "      <td>0.173800</td>\n",
       "      <td>0</td>\n",
       "    </tr>\n",
       "    <tr>\n",
       "      <th>15</th>\n",
       "      <td>-120.000000</td>\n",
       "      <td>-8.049287</td>\n",
       "      <td>1</td>\n",
       "    </tr>\n",
       "    <tr>\n",
       "      <th>16</th>\n",
       "      <td>55.207582</td>\n",
       "      <td>0.230788</td>\n",
       "      <td>0</td>\n",
       "    </tr>\n",
       "    <tr>\n",
       "      <th>17</th>\n",
       "      <td>46.111864</td>\n",
       "      <td>-0.199064</td>\n",
       "      <td>0</td>\n",
       "    </tr>\n",
       "  </tbody>\n",
       "</table>\n",
       "</div>"
      ],
      "text/plain": [
       "          Data  Data_zscore  outlier\n",
       "0    44.792379    -0.261421        0\n",
       "1    28.676840    -1.023020        0\n",
       "2    39.062752    -0.532195        0\n",
       "3    47.920574    -0.113587        0\n",
       "4    56.141552     0.274926        0\n",
       "5    37.744057    -0.594515        0\n",
       "6    44.305250    -0.284442        0\n",
       "7    42.796350    -0.355751        0\n",
       "8    46.104813    -0.199397        0\n",
       "9    50.645138     0.015173        0\n",
       "10   47.306038    -0.142629        0\n",
       "11   32.920128    -0.822488        0\n",
       "12   51.228751     0.042753        0\n",
       "13   30.119918    -0.954822        0\n",
       "14   54.001707     0.173800        0\n",
       "15 -120.000000    -8.049287        1\n",
       "16   55.207582     0.230788        0\n",
       "17   46.111864    -0.199064        0"
      ]
     },
     "execution_count": 15,
     "metadata": {},
     "output_type": "execute_result"
    }
   ],
   "source": [
    "df.head(18)"
   ]
  }
 ],
 "metadata": {
  "kernelspec": {
   "display_name": "Python 3",
   "language": "python",
   "name": "python3"
  },
  "language_info": {
   "codemirror_mode": {
    "name": "ipython",
    "version": 3
   },
   "file_extension": ".py",
   "mimetype": "text/x-python",
   "name": "python",
   "nbconvert_exporter": "python",
   "pygments_lexer": "ipython3",
   "version": "3.7.12"
  },
  "papermill": {
   "default_parameters": {},
   "duration": 13.342278,
   "end_time": "2022-02-20T06:17:48.911805",
   "environment_variables": {},
   "exception": null,
   "input_path": "__notebook__.ipynb",
   "output_path": "__notebook__.ipynb",
   "parameters": {},
   "start_time": "2022-02-20T06:17:35.569527",
   "version": "2.3.3"
  }
 },
 "nbformat": 4,
 "nbformat_minor": 5
}
